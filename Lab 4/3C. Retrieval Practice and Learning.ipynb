{
 "cells": [
  {
   "cell_type": "markdown",
   "metadata": {
    "colab_type": "text",
    "id": "1aPshrzKvAlN"
   },
   "source": [
    "# Retrieval Practice and Learning\n",
    "\n",
    "What is the most effective way to learn a subject? Many students focus exclusively on the _encoding_ process---that is, how to get the knowledge into memory in the first place. For example, taking notes is an activity for encoding knowledge.\n",
    "\n",
    "_Retrieval_, on the other hand, is the process of reconstructing that knowledge from memory. [Karpicke and Blunt](http://science.sciencemag.org/content/331/6018/772) (2011) demonstrated that _retrieval_ is more effective for learning than activites designed to promote effective encoding. They conducted an experiment in which subjects had to learn about sea otters by reading a passage. Subjects were randomly assigned to one of two conditions: some were instructed to create a [concept map](https://en.wikipedia.org/wiki/Concept_map) as they read the passage, while others were instructed to practice retrieval (i.e., read the passage, recall as much as they could, read the text again, and recall again). The two main measurements they recorded were:\n",
    "\n",
    "1. each subject's score on a follow-up learning test one week later\n",
    "2. each subject's _prediction_ of how well they would do on that test\n",
    "\n",
    "In this lab, you will analyze data from a _replication_ of Karpicke and Blunt's experiment, conducted by Buttrick _et al_.\n",
    "- The data file is : data.csv.\n",
    "- The codebook (explaining what the variables mean) is : codebook.csv."
   ]
  },
  {
   "cell_type": "code",
   "execution_count": 1,
   "metadata": {
    "colab": {},
    "colab_type": "code",
    "id": "aA3QAljEvAlO"
   },
   "outputs": [
    {
     "data": {
      "text/html": [
       "<div>\n",
       "<style scoped>\n",
       "    .dataframe tbody tr th:only-of-type {\n",
       "        vertical-align: middle;\n",
       "    }\n",
       "\n",
       "    .dataframe tbody tr th {\n",
       "        vertical-align: top;\n",
       "    }\n",
       "\n",
       "    .dataframe thead th {\n",
       "        text-align: right;\n",
       "    }\n",
       "</style>\n",
       "<table border=\"1\" class=\"dataframe\">\n",
       "  <thead>\n",
       "    <tr style=\"text-align: right;\">\n",
       "      <th></th>\n",
       "      <th>ID</th>\n",
       "      <th>Age</th>\n",
       "      <th>Gender</th>\n",
       "      <th>Date.P1</th>\n",
       "      <th>Date.P2</th>\n",
       "      <th>Condition</th>\n",
       "      <th>IC.1</th>\n",
       "      <th>IC.2</th>\n",
       "      <th>Comp.1</th>\n",
       "      <th>Comp.2</th>\n",
       "      <th>...</th>\n",
       "      <th>Scorer.2.2</th>\n",
       "      <th>R2CS.avg</th>\n",
       "      <th>TS.1</th>\n",
       "      <th>Scorer.1.3</th>\n",
       "      <th>TS.2</th>\n",
       "      <th>Scorer.2.3</th>\n",
       "      <th>TS.avg</th>\n",
       "      <th>Exc.1</th>\n",
       "      <th>Exc.2</th>\n",
       "      <th>Collection</th>\n",
       "    </tr>\n",
       "  </thead>\n",
       "  <tbody>\n",
       "    <tr>\n",
       "      <th>0</th>\n",
       "      <td>KB1</td>\n",
       "      <td>18</td>\n",
       "      <td>Female</td>\n",
       "      <td>11/21/16</td>\n",
       "      <td>11/28/16</td>\n",
       "      <td>Concept</td>\n",
       "      <td>1</td>\n",
       "      <td>1</td>\n",
       "      <td>1</td>\n",
       "      <td>1</td>\n",
       "      <td>...</td>\n",
       "      <td>NaN</td>\n",
       "      <td>NaN</td>\n",
       "      <td>0.36</td>\n",
       "      <td>NK</td>\n",
       "      <td>0.42</td>\n",
       "      <td>MS</td>\n",
       "      <td>0.39</td>\n",
       "      <td>0</td>\n",
       "      <td>0</td>\n",
       "      <td>1</td>\n",
       "    </tr>\n",
       "    <tr>\n",
       "      <th>1</th>\n",
       "      <td>KB2</td>\n",
       "      <td>18</td>\n",
       "      <td>Male</td>\n",
       "      <td>11/21/16</td>\n",
       "      <td>11/28/16</td>\n",
       "      <td>Concept</td>\n",
       "      <td>1</td>\n",
       "      <td>1</td>\n",
       "      <td>1</td>\n",
       "      <td>1</td>\n",
       "      <td>...</td>\n",
       "      <td>NaN</td>\n",
       "      <td>NaN</td>\n",
       "      <td>0.48</td>\n",
       "      <td>MS</td>\n",
       "      <td>0.36</td>\n",
       "      <td>NK</td>\n",
       "      <td>0.42</td>\n",
       "      <td>0</td>\n",
       "      <td>0</td>\n",
       "      <td>1</td>\n",
       "    </tr>\n",
       "    <tr>\n",
       "      <th>2</th>\n",
       "      <td>KB3</td>\n",
       "      <td>18</td>\n",
       "      <td>Male</td>\n",
       "      <td>11/21/16</td>\n",
       "      <td>11/28/16</td>\n",
       "      <td>Concept</td>\n",
       "      <td>1</td>\n",
       "      <td>1</td>\n",
       "      <td>1</td>\n",
       "      <td>1</td>\n",
       "      <td>...</td>\n",
       "      <td>NaN</td>\n",
       "      <td>NaN</td>\n",
       "      <td>0.08</td>\n",
       "      <td>NK</td>\n",
       "      <td>0.08</td>\n",
       "      <td>MS</td>\n",
       "      <td>0.08</td>\n",
       "      <td>0</td>\n",
       "      <td>0</td>\n",
       "      <td>1</td>\n",
       "    </tr>\n",
       "    <tr>\n",
       "      <th>3</th>\n",
       "      <td>KB4</td>\n",
       "      <td>19</td>\n",
       "      <td>Female</td>\n",
       "      <td>11/21/16</td>\n",
       "      <td>11/28/16</td>\n",
       "      <td>Concept</td>\n",
       "      <td>1</td>\n",
       "      <td>1</td>\n",
       "      <td>1</td>\n",
       "      <td>1</td>\n",
       "      <td>...</td>\n",
       "      <td>NaN</td>\n",
       "      <td>NaN</td>\n",
       "      <td>0.44</td>\n",
       "      <td>MS</td>\n",
       "      <td>0.42</td>\n",
       "      <td>NK</td>\n",
       "      <td>0.43</td>\n",
       "      <td>0</td>\n",
       "      <td>0</td>\n",
       "      <td>1</td>\n",
       "    </tr>\n",
       "    <tr>\n",
       "      <th>4</th>\n",
       "      <td>KB5</td>\n",
       "      <td>19</td>\n",
       "      <td>Female</td>\n",
       "      <td>11/22/16</td>\n",
       "      <td>11/29/16</td>\n",
       "      <td>Concept</td>\n",
       "      <td>1</td>\n",
       "      <td>1</td>\n",
       "      <td>1</td>\n",
       "      <td>1</td>\n",
       "      <td>...</td>\n",
       "      <td>NaN</td>\n",
       "      <td>NaN</td>\n",
       "      <td>0.26</td>\n",
       "      <td>NK</td>\n",
       "      <td>0.28</td>\n",
       "      <td>MS</td>\n",
       "      <td>0.27</td>\n",
       "      <td>0</td>\n",
       "      <td>0</td>\n",
       "      <td>1</td>\n",
       "    </tr>\n",
       "  </tbody>\n",
       "</table>\n",
       "<p>5 rows × 35 columns</p>\n",
       "</div>"
      ],
      "text/plain": [
       "    ID  Age  Gender   Date.P1   Date.P2 Condition  IC.1  IC.2  Comp.1  Comp.2  \\\n",
       "0  KB1   18  Female  11/21/16  11/28/16   Concept     1     1       1       1   \n",
       "1  KB2   18    Male  11/21/16  11/28/16   Concept     1     1       1       1   \n",
       "2  KB3   18    Male  11/21/16  11/28/16   Concept     1     1       1       1   \n",
       "3  KB4   19  Female  11/21/16  11/28/16   Concept     1     1       1       1   \n",
       "4  KB5   19  Female  11/22/16  11/29/16   Concept     1     1       1       1   \n",
       "\n",
       "   ...  Scorer.2.2  R2CS.avg  TS.1 Scorer.1.3  TS.2 Scorer.2.3  TS.avg  Exc.1  \\\n",
       "0  ...         NaN       NaN  0.36         NK  0.42         MS    0.39      0   \n",
       "1  ...         NaN       NaN  0.48         MS  0.36         NK    0.42      0   \n",
       "2  ...         NaN       NaN  0.08         NK  0.08         MS    0.08      0   \n",
       "3  ...         NaN       NaN  0.44         MS  0.42         NK    0.43      0   \n",
       "4  ...         NaN       NaN  0.26         NK  0.28         MS    0.27      0   \n",
       "\n",
       "  Exc.2  Collection  \n",
       "0     0           1  \n",
       "1     0           1  \n",
       "2     0           1  \n",
       "3     0           1  \n",
       "4     0           1  \n",
       "\n",
       "[5 rows x 35 columns]"
      ]
     },
     "execution_count": 1,
     "metadata": {},
     "output_type": "execute_result"
    }
   ],
   "source": [
    "# READ IN THE DATA SET HERE\n",
    "%matplotlib inline\n",
    "import pandas as pd\n",
    "\n",
    "# 1. Read the csv file into a Pandas Dataframe.\n",
    "df = pd.read_csv(\"data.csv\")\n",
    "#2. Display initial rows. \n",
    "df.head()"
   ]
  },
  {
   "cell_type": "markdown",
   "metadata": {
    "colab_type": "text",
    "id": "dK2K5TkivAlT"
   },
   "source": [
    "# Question 1\n",
    "\n",
    "Which group felt like they learned more: the subjects who made concept maps or the ones who practiced retrieval? (Or are they about the same?) Make an appropriate visualization and explain what you see.\n",
    "\n",
    "_Hint:_ Use the variable `PR.2`, which contains the participants' predictions of how well they would do on a test one week later. "
   ]
  },
  {
   "cell_type": "code",
   "execution_count": 2,
   "metadata": {
    "colab": {},
    "colab_type": "code",
    "id": "IMh2REXUvAlT"
   },
   "outputs": [
    {
     "data": {
      "text/plain": [
       "<AxesSubplot:xlabel='Condition'>"
      ]
     },
     "execution_count": 2,
     "metadata": {},
     "output_type": "execute_result"
    },
    {
     "data": {
      "image/png": "[encoded data removed]",
      "text/plain": [
       "<Figure size 432x288 with 1 Axes>"
      ]
     },
     "metadata": {
      "needs_background": "light"
     },
     "output_type": "display_data"
    }
   ],
   "source": [
    "# YOUR CODE HERE\n",
    "X = df.groupby(\"Condition\")[\"PR.2\"].mean()\n",
    "X.plot.bar()"
   ]
  },
  {
   "cell_type": "markdown",
   "metadata": {
    "colab_type": "text",
    "id": "TvM6_uHxvAlX"
   },
   "source": [
    "**YOUR EXPLANATION HERE** Subjects that made concept maps on average gave themselves a better score than the subjects that practiced retrieval. We see that on average, concept map subjects gave themselves a predicted score of 0.69 and retrieval subjects gave themselves a score of 0.58 on average."
   ]
  },
  {
   "cell_type": "markdown",
   "metadata": {
    "colab_type": "text",
    "id": "U5hlEgvzvAlY"
   },
   "source": [
    "# Question 2\n",
    "\n",
    "Which group actually did better on the follow-up learning test one week later? Make an appropriate visualization and explain what you see.\n",
    "\n",
    "_Hint:_ Don't ask which variable you should use. That is for you to figure out. Read the codebook carefully (consulting the [original paper](http://science.sciencemag.org/content/331/6018/772), if necessary), make an informed decision, and explain your choice."
   ]
  },
  {
   "cell_type": "code",
   "execution_count": 3,
   "metadata": {
    "colab": {},
    "colab_type": "code",
    "id": "9m-bnR0zvAlY"
   },
   "outputs": [
    {
     "data": {
      "text/plain": [
       "<AxesSubplot:xlabel='Condition'>"
      ]
     },
     "execution_count": 3,
     "metadata": {},
     "output_type": "execute_result"
    },
    {
     "data": {
      "image/png": "[encoded data removed]",
      "text/plain": [
       "<Figure size 432x288 with 1 Axes>"
      ]
     },
     "metadata": {
      "needs_background": "light"
     },
     "output_type": "display_data"
    }
   ],
   "source": [
    "# YOUR CODE HERE\n",
    "Y = df.groupby(\"Condition\")[\"TS.avg\"].mean()\n",
    "Y.plot.bar()"
   ]
  },
  {
   "cell_type": "code",
   "execution_count": 4,
   "metadata": {},
   "outputs": [
    {
     "data": {
      "text/plain": [
       "Condition\n",
       "Concept      0.221538\n",
       "Retrieval    0.040000\n",
       "dtype: float64"
      ]
     },
     "execution_count": 4,
     "metadata": {},
     "output_type": "execute_result"
    }
   ],
   "source": [
    "dif = Y - X\n",
    "dif.abs()"
   ]
  },
  {
   "cell_type": "markdown",
   "metadata": {
    "colab_type": "text",
    "id": "BPPeUIC2vAlb"
   },
   "source": [
    "**YOUR EXPLANATION HERE** On average, subjects that practiced retrieval did better on the follow up tests than the subjects that practiced making concept maps.\n"
   ]
  },
  {
   "cell_type": "markdown",
   "metadata": {
    "colab_type": "text",
    "id": "54XjgjwnvAlb"
   },
   "source": [
    "# Question 3\n",
    "\n",
    "How good were subjects at predicting how well they would do on the follow-up learning test? Calculate a measure of how well subjects predicted their performance and interpret the value in context. (Optionally, you may want to include a visualization as well.)"
   ]
  },
  {
   "cell_type": "code",
   "execution_count": 5,
   "metadata": {},
   "outputs": [
    {
     "data": {
      "image/png": "[encoded data removed]",
      "text/plain": [
       "<Figure size 432x288 with 1 Axes>"
      ]
     },
     "metadata": {
      "needs_background": "light"
     },
     "output_type": "display_data"
    }
   ],
   "source": [
    "df = pd.DataFrame({'Predicted': X,\n",
    "                   'Actual': Y}, index=[\"Concept\", \"Retrieval\"])\n",
    "ax = df.plot.bar()"
   ]
  },
  {
   "cell_type": "code",
   "execution_count": 6,
   "metadata": {},
   "outputs": [
    {
     "name": "stdout",
     "output_type": "stream",
     "text": [
      "0.10439999999999999\n",
      "0.05352941176470588\n"
     ]
    }
   ],
   "source": [
    "import numpy as np\n",
    "df = pd.read_csv(\"data.csv\")\n",
    "## measures the average of the squares of the errors—that is, \n",
    "## the average squared difference between the estimated values and the actual value\n",
    "df[\"subtract\"] = df[\"TS.avg\"] - df[\"PR.2\"] ## take the difference\n",
    "df[\"square\"]= np.power((df['subtract']),2) ##sqaure those differences\n",
    "test = df.groupby(\"Condition\")[\"square\"].sum() ## sum the squares\n",
    "concept_count = df.loc[df[\"Condition\"] == \"Concept\"].count()\n",
    "concept_count #26\n",
    "retrieval_count = df.loc[df[\"Condition\"] == \"Retrieval\"].count()\n",
    "retrieval_count #17\n",
    "test #2.7144 0.91\n",
    "concept = 2.7144/26\n",
    "retrieval = 0.91/17\n",
    "print(concept)\n",
    "print(retrieval)\n",
    "#mean_squared_error = test/df.shape[0] ## number of rows\n",
    "#mean_squared_error"
   ]
  },
  {
   "cell_type": "markdown",
   "metadata": {
    "colab_type": "text",
    "id": "3EZ15Z6kvAle"
   },
   "source": [
    "**YOUR EXPLANATION HERE** Subjects that made concept maps made predictions of their score that were .22 points off their actual test scores while retrieval subjects were only 0.04 points off on predicting their actual scores. Concept subjects tested worse than their predicted score and retrieval subjects did slightly better than their predicted score."
   ]
  },
  {
   "cell_type": "markdown",
   "metadata": {
    "colab_type": "text",
    "id": "7iD39TKdvAlf"
   },
   "source": [
    "# Question 4\n",
    "\n",
    "This was a completely randomized experiment. This means that the condition that each subject was assigned to should be independent of their gender, age, and any other subject characteristics. Does that seem to be true in this case? Calculate a summary measure and/or make a visualization, and explain what you see."
   ]
  },
  {
   "cell_type": "code",
   "execution_count": 7,
   "metadata": {
    "colab": {},
    "colab_type": "code",
    "id": "nlw6JXpTvAlf"
   },
   "outputs": [
    {
     "data": {
      "text/plain": [
       "<AxesSubplot:xlabel='Condition'>"
      ]
     },
     "execution_count": 7,
     "metadata": {},
     "output_type": "execute_result"
    },
    {
     "data": {
      "image/png": "[encoded data removed]",
      "text/plain": [
       "<Figure size 432x288 with 1 Axes>"
      ]
     },
     "metadata": {
      "needs_background": "light"
     },
     "output_type": "display_data"
    }
   ],
   "source": [
    "# YOUR CODE HERE\n",
    "df = pd.read_csv(\"data.csv\")\n",
    "cond_vs_age = pd.crosstab(df[\"Condition\"], df[\"Age\"])\n",
    "cond_vs_age.plot.bar()\n"
   ]
  },
  {
   "cell_type": "code",
   "execution_count": 8,
   "metadata": {
    "tags": []
   },
   "outputs": [
    {
     "data": {
      "text/plain": [
       "<AxesSubplot:xlabel='Condition'>"
      ]
     },
     "execution_count": 8,
     "metadata": {},
     "output_type": "execute_result"
    },
    {
     "data": {
      "image/png": "[encoded data removed]",
      "text/plain": [
       "<Figure size 432x288 with 1 Axes>"
      ]
     },
     "metadata": {
      "needs_background": "light"
     },
     "output_type": "display_data"
    }
   ],
   "source": [
    "cond_vs_gender = pd.crosstab(df[\"Condition\"], df[\"Gender\"])\n",
    "cond_vs_gender.plot.bar()"
   ]
  },
  {
   "cell_type": "markdown",
   "metadata": {
    "colab_type": "text",
    "id": "NVxo0YzpvAlm"
   },
   "source": [
    "**YOUR EXPLANATION HERE**This experiement does not look to be completely randomized. As seen in the first visualisation, the distribution between ages and genders are not equal. Among the concept subjects, most were 18 and 19 years of age and mostly male. In the retrieval population, most subjects were 19 and female."
   ]
  },
  {
   "cell_type": "markdown",
   "metadata": {
    "colab_type": "text",
    "id": "eJ67dulfvAlm"
   },
   "source": [
    "# Submission Instructions\n",
    "\n",
    "Once you are finished, follow these steps:\n",
    "\n",
    "1. Restart the kernel and re-run this notebook from beginning to end by going to `Kernel > Restart Kernel and Run All Cells`.\n",
    "2. If this process stops halfway through, that means there was an error. Correct the error and repeat Step 1 until the notebook runs from beginning to end.\n",
    "3. Double check that there is a number next to each code cell and that these numbers are in order.\n",
    "\n",
    "Then, submit your lab as follows:\n",
    "\n",
    "1. Go to `File > Export Notebook As > PDF`.\n",
    "2. Double check that the entire notebook, from beginning to end, is in this PDF file. (If the notebook is cut off, try first exporting the notebook to HTML and printing to PDF.)\n",
    "3. Upload the PDF to Gradescope and Notebook (ipynb) to iLearn."
   ]
  }
 ],
 "metadata": {
  "colab": {
   "name": "3C. Retrieval Practice and Learning.ipynb",
   "provenance": []
  },
  "kernelspec": {
   "display_name": "Python 3",
   "language": "python",
   "name": "python3"
  },
  "language_info": {
   "codemirror_mode": {
    "name": "ipython",
    "version": 3
   },
   "file_extension": ".py",
   "mimetype": "text/x-python",
   "name": "python",
   "nbconvert_exporter": "python",
   "pygments_lexer": "ipython3",
   "version": "3.8.8"
  }
 },
 "nbformat": 4,
 "nbformat_minor": 4
}
